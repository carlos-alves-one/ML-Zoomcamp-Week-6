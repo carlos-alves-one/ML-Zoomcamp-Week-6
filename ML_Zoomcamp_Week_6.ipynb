{
  "nbformat": 4,
  "nbformat_minor": 0,
  "metadata": {
    "colab": {
      "provenance": [],
      "authorship_tag": "ABX9TyP0AD+9aTzlnvBlWcopSG9+",
      "include_colab_link": true
    },
    "kernelspec": {
      "name": "python3",
      "display_name": "Python 3"
    },
    "language_info": {
      "name": "python"
    }
  },
  "cells": [
    {
      "cell_type": "markdown",
      "metadata": {
        "id": "view-in-github",
        "colab_type": "text"
      },
      "source": [
        "<a href=\"https://colab.research.google.com/github/carlos-alves-one/-ML-Zoomcamp-Week-6/blob/main/ML_Zoomcamp_Week_6.ipynb\" target=\"_parent\"><img src=\"https://colab.research.google.com/assets/colab-badge.svg\" alt=\"Open In Colab\"/></a>"
      ]
    },
    {
      "cell_type": "markdown",
      "source": [
        "## Goldsmiths University of London\n",
        "**Author....: Carlos Manuel de Oliveira Alves**<br>\n",
        "**Student..: cdeol003**<br>\n",
        "**Created..: 10/10/2022**"
      ],
      "metadata": {
        "id": "FwAFO0FoK5xg"
      }
    },
    {
      "cell_type": "code",
      "execution_count": 2,
      "metadata": {
        "colab": {
          "base_uri": "https://localhost:8080/"
        },
        "id": "h81BheE5Kr0A",
        "outputId": "9314f6f4-8a69-4eb0-c222-16f257721132"
      },
      "outputs": [
        {
          "output_type": "stream",
          "name": "stdout",
          "text": [
            "--2022-10-10 11:38:45--  https://raw.githubusercontent.com/alexeygrigorev/mlbookcamp-code/master/chapter-06-trees/CreditScoring.csv\n",
            "Resolving raw.githubusercontent.com (raw.githubusercontent.com)... 185.199.111.133, 185.199.109.133, 185.199.110.133, ...\n",
            "Connecting to raw.githubusercontent.com (raw.githubusercontent.com)|185.199.111.133|:443... connected.\n",
            "HTTP request sent, awaiting response... 200 OK\n",
            "Length: 182489 (178K) [text/plain]\n",
            "Saving to: ‘CreditScoring.csv’\n",
            "\n",
            "CreditScoring.csv   100%[===================>] 178.21K  --.-KB/s    in 0.01s   \n",
            "\n",
            "2022-10-10 11:38:45 (11.6 MB/s) - ‘CreditScoring.csv’ saved [182489/182489]\n",
            "\n"
          ]
        }
      ],
      "source": [
        "# Download the dataset for the project\n",
        "data = data = 'https://raw.githubusercontent.com/alexeygrigorev/mlbookcamp-code/master/chapter-06-trees/CreditScoring.csv'\n",
        "\n",
        "!wget $data"
      ]
    },
    {
      "cell_type": "code",
      "source": [
        "# Print the column names and the first 9 records of the dataset\n",
        "!head CreditScoring.csv"
      ],
      "metadata": {
        "colab": {
          "base_uri": "https://localhost:8080/"
        },
        "id": "WrF4Q2_rsGjf",
        "outputId": "682abb11-b6c1-4914-9fec-61c1fe8e1a63"
      },
      "execution_count": 3,
      "outputs": [
        {
          "output_type": "stream",
          "name": "stdout",
          "text": [
            "\"Status\",\"Seniority\",\"Home\",\"Time\",\"Age\",\"Marital\",\"Records\",\"Job\",\"Expenses\",\"Income\",\"Assets\",\"Debt\",\"Amount\",\"Price\"\n",
            "1,9,1,60,30,2,1,3,73,129,0,0,800,846\n",
            "1,17,1,60,58,3,1,1,48,131,0,0,1000,1658\n",
            "2,10,2,36,46,2,2,3,90,200,3000,0,2000,2985\n",
            "1,0,1,60,24,1,1,1,63,182,2500,0,900,1325\n",
            "1,0,1,36,26,1,1,1,46,107,0,0,310,910\n",
            "1,1,2,60,36,2,1,1,75,214,3500,0,650,1645\n",
            "1,29,2,60,44,2,1,1,75,125,10000,0,1600,1800\n",
            "1,9,5,12,27,1,1,1,35,80,0,0,200,1093\n",
            "1,0,2,60,32,2,1,3,90,107,15000,0,1200,1957\n"
          ]
        }
      ]
    },
    {
      "cell_type": "code",
      "source": [],
      "metadata": {
        "id": "NlYgPoX0segI"
      },
      "execution_count": null,
      "outputs": []
    }
  ]
}