{
 "cells": [
  {
   "cell_type": "markdown",
   "metadata": {
    "id": "FwAFO0FoK5xg"
   },
   "source": [
    "## Goldsmiths University of London\n",
    "**Author....: Carlos Manuel de Oliveira Alves**<br>\n",
    "**Student..: cdeol003**<br>\n",
    "**Created..: 10/10/2022**"
   ]
  },
  {
   "cell_type": "code",
   "execution_count": 1,
   "metadata": {
    "id": "RhN9HN3MtBkN"
   },
   "outputs": [
    {
     "ename": "ModuleNotFoundError",
     "evalue": "No module named 'pandas'",
     "output_type": "error",
     "traceback": [
      "\u001b[0;31m---------------------------------------------------------------------------\u001b[0m",
      "\u001b[0;31mModuleNotFoundError\u001b[0m                       Traceback (most recent call last)",
      "Cell \u001b[0;32mIn [1], line 2\u001b[0m\n\u001b[1;32m      1\u001b[0m \u001b[38;5;66;03m# Import all necessary libraries that we will use in this project\u001b[39;00m\n\u001b[0;32m----> 2\u001b[0m \u001b[38;5;28;01mimport\u001b[39;00m \u001b[38;5;21;01mpandas\u001b[39;00m \u001b[38;5;28;01mas\u001b[39;00m \u001b[38;5;21;01mpd\u001b[39;00m\n\u001b[1;32m      3\u001b[0m \u001b[38;5;28;01mimport\u001b[39;00m \u001b[38;5;21;01mnumpy\u001b[39;00m \u001b[38;5;28;01mas\u001b[39;00m \u001b[38;5;21;01mnp\u001b[39;00m\n\u001b[1;32m      5\u001b[0m \u001b[38;5;28;01mimport\u001b[39;00m \u001b[38;5;21;01mseaborn\u001b[39;00m \u001b[38;5;28;01mas\u001b[39;00m \u001b[38;5;21;01msns\u001b[39;00m\n",
      "\u001b[0;31mModuleNotFoundError\u001b[0m: No module named 'pandas'"
     ]
    }
   ],
   "source": [
    "# Import all necessary libraries that we will use in this project\n",
    "import pandas as pd\n",
    "import numpy as np\n",
    "\n",
    "import seaborn as sns\n",
    "from matplotlib import pyplot as plt\n",
    "%matplotlib inline"
   ]
  },
  {
   "cell_type": "code",
   "execution_count": null,
   "metadata": {
    "colab": {
     "base_uri": "https://localhost:8080/"
    },
    "id": "h81BheE5Kr0A",
    "outputId": "45f513a4-6836-4be4-94c8-0c5bd7771c7c"
   },
   "outputs": [],
   "source": [
    "# Download the dataset for the project\n",
    "data = data = 'https://raw.githubusercontent.com/alexeygrigorev/mlbookcamp-code/master/chapter-06-trees/CreditScoring.csv'\n",
    "\n",
    "!wget $data"
   ]
  },
  {
   "cell_type": "code",
   "execution_count": null,
   "metadata": {
    "colab": {
     "base_uri": "https://localhost:8080/"
    },
    "id": "WrF4Q2_rsGjf",
    "outputId": "1e309c1a-0c52-42a9-c152-57d2fad1c025"
   },
   "outputs": [],
   "source": [
    "# Print the column names and the first 9 records of the dataset\n",
    "!head CreditScoring.csv"
   ]
  },
  {
   "cell_type": "code",
   "execution_count": null,
   "metadata": {
    "id": "NlYgPoX0segI"
   },
   "outputs": [],
   "source": [
    "# Print the data now using Pandas\n",
    "df = pd.read_csv(data)"
   ]
  },
  {
   "cell_type": "code",
   "execution_count": null,
   "metadata": {
    "colab": {
     "base_uri": "https://localhost:8080/",
     "height": 270
    },
    "id": "QJI40NkdtcoV",
    "outputId": "e36dc67a-423b-4316-d4f0-b0a96858d177"
   },
   "outputs": [],
   "source": [
    "# Print the first 5 rows of our daraset\n",
    "df.head()"
   ]
  },
  {
   "cell_type": "code",
   "execution_count": null,
   "metadata": {
    "id": "6MXe7OgPuBul"
   },
   "outputs": [],
   "source": [
    "# Preparing the data:\n",
    "\n",
    "# Use the column status we want to translate the numbers into strings\n",
    "# with text is easier to understand, what this status means"
   ]
  },
  {
   "cell_type": "code",
   "execution_count": null,
   "metadata": {
    "colab": {
     "base_uri": "https://localhost:8080/",
     "height": 270
    },
    "id": "SKiTPQJOts1m",
    "outputId": "3ef80109-573d-4066-b9dd-30a904770cba"
   },
   "outputs": [],
   "source": [
    "# Lower case all the column names of the dataset\n",
    "df.columns = df.columns.str.lower()\n",
    "df.head()"
   ]
  },
  {
   "cell_type": "code",
   "execution_count": null,
   "metadata": {
    "colab": {
     "base_uri": "https://localhost:8080/"
    },
    "id": "u5cKcBPvV-jM",
    "outputId": "b8e50860-7db9-4716-e17c-a0ec7c602253"
   },
   "outputs": [],
   "source": [
    "# Check the column status and how many values we have\n",
    "df.status.value_counts()\n",
    "# we can see we have a variable zero"
   ]
  },
  {
   "cell_type": "code",
   "execution_count": null,
   "metadata": {
    "colab": {
     "base_uri": "https://localhost:8080/"
    },
    "id": "1lDDhY71UxDm",
    "outputId": "55f5320a-9049-43f7-b4b1-c7baa8cea3a3"
   },
   "outputs": [],
   "source": [
    "# Convert the column status to string using the map function\n",
    "# this function map converts to a dictionary every value from \n",
    "# the original data frame to some new value\n",
    "df.status.map({1: 'ok', 2: 'default', 0: 'unk'}) # unk means unknown"
   ]
  },
  {
   "cell_type": "code",
   "execution_count": null,
   "metadata": {
    "colab": {
     "base_uri": "https://localhost:8080/",
     "height": 270
    },
    "id": "uNhFYAQhWsNO",
    "outputId": "99e8629c-4981-4fc4-cf00-1b5a7a4dbfc3"
   },
   "outputs": [],
   "source": [
    "# Check our dataframe after used the map function\n",
    "df.head()"
   ]
  },
  {
   "cell_type": "code",
   "execution_count": null,
   "metadata": {
    "id": "daJtHQa0W0UU"
   },
   "outputs": [],
   "source": [
    "# Now dealing with values: home, marital, records and job\n",
    "home_values = {\n",
    "    1: 'rent',\n",
    "    2: 'owner',\n",
    "    3: 'private',\n",
    "    4: 'ignore',\n",
    "    5: 'parents',\n",
    "    6: 'other',\n",
    "    0: 'unk'\n",
    "}\n",
    "\n",
    "df.home = df.home.map(home_values)\n",
    "\n",
    "marital_values = {\n",
    "    1: 'single',\n",
    "    2: 'married',\n",
    "    3: 'widow',\n",
    "    4: 'separated',\n",
    "    5: 'divorced',\n",
    "    0: 'unk'\n",
    "}\n",
    "\n",
    "df.marital = df.marital.map(marital_values)\n",
    "\n",
    "records_values = {\n",
    "    1: 'no',\n",
    "    2: 'yes',\n",
    "    0: 'unk'\n",
    "}\n",
    "\n",
    "df.records = df.records.map(records_values)\n",
    "\n",
    "job_values = {\n",
    "    1: 'fixed',\n",
    "    2: 'partime',\n",
    "    3: 'freelance',\n",
    "    4: 'others',\n",
    "    0: 'unk'\n",
    "}\n",
    "\n",
    "df.job = df.job.map(job_values)"
   ]
  },
  {
   "cell_type": "code",
   "execution_count": null,
   "metadata": {
    "colab": {
     "base_uri": "https://localhost:8080/",
     "height": 270
    },
    "id": "RwcS7HkbZEfP",
    "outputId": "06408ea8-d8df-4c13-faf3-055e01f1986a"
   },
   "outputs": [],
   "source": [
    "# Check our data frame after used the map function\n",
    "df.head()"
   ]
  },
  {
   "cell_type": "code",
   "execution_count": null,
   "metadata": {
    "colab": {
     "base_uri": "https://localhost:8080/",
     "height": 364
    },
    "id": "pc_VVqofZMrv",
    "outputId": "87b88876-88bc-48f8-d5c1-60e2f85989ea"
   },
   "outputs": [],
   "source": [
    "# Use the method describe that describes the dataset like all the statistics\n",
    "df.describe()"
   ]
  },
  {
   "cell_type": "code",
   "execution_count": null,
   "metadata": {
    "colab": {
     "base_uri": "https://localhost:8080/",
     "height": 300
    },
    "id": "4aVEQ_MCZfcV",
    "outputId": "c6d61779-f52b-4193-897b-780607fe3105"
   },
   "outputs": [],
   "source": [
    "# Use the method describe with the random function\n",
    "df.describe().round()\n",
    "# below we can see income, assets and debt have large numbers as max values\n",
    "# this max values means the value is missing"
   ]
  },
  {
   "cell_type": "code",
   "execution_count": null,
   "metadata": {
    "colab": {
     "base_uri": "https://localhost:8080/"
    },
    "id": "m9DD46woaC6v",
    "outputId": "9f262755-06bb-43e4-902f-4a8bbfdf6e5f"
   },
   "outputs": [],
   "source": [
    "# Using another way similar to map function to replace values\n",
    "df.income.replace(to_replace=99999999, value=np.nan)"
   ]
  },
  {
   "cell_type": "code",
   "execution_count": null,
   "metadata": {
    "id": "_zlVcwtabF-C"
   },
   "outputs": [],
   "source": [
    "# Create a for loop to update the max value with NaN\n",
    "for c in ['income', 'assets','debt']:\n",
    "\n",
    "  # After access the column c we want to replace the value with NaN\n",
    "  df [c] = df[c].replace(to_replace=99999999, value=np.nan)"
   ]
  },
  {
   "cell_type": "code",
   "execution_count": null,
   "metadata": {
    "colab": {
     "base_uri": "https://localhost:8080/",
     "height": 300
    },
    "id": "gCUHNljlWaE3",
    "outputId": "e1556600-a5f2-4d45-ffff-edd3b6b899bc"
   },
   "outputs": [],
   "source": [
    "# Check the max value is gone from the dataframe\n",
    "df.describe().round() \n",
    "# we can see below we don't have the max value anymore"
   ]
  },
  {
   "cell_type": "code",
   "execution_count": null,
   "metadata": {
    "colab": {
     "base_uri": "https://localhost:8080/"
    },
    "id": "Ag5YmplqWgPJ",
    "outputId": "8f79a044-301e-4ff7-b4e4-8700bd8c66ee"
   },
   "outputs": [],
   "source": [
    "# Look at the status variable. We have zeros meaning we have missing values\n",
    "df.status.value_counts()\n",
    "# below the status zero means unk and we want to remove it"
   ]
  },
  {
   "cell_type": "code",
   "execution_count": null,
   "metadata": {
    "colab": {
     "base_uri": "https://localhost:8080/",
     "height": 488
    },
    "id": "dNfTL-4AXdPz",
    "outputId": "58369c06-66ca-439c-9052-7f7820a78d30"
   },
   "outputs": [],
   "source": [
    "# Filter all records with status, not zero, from the data frame\n",
    "df[df.status != 0]"
   ]
  },
  {
   "cell_type": "code",
   "execution_count": null,
   "metadata": {
    "colab": {
     "base_uri": "https://localhost:8080/",
     "height": 488
    },
    "id": "Dia65hkvnpGD",
    "outputId": "7764d3e4-9e97-4b4a-8d7c-148d7eedb2b1"
   },
   "outputs": [],
   "source": [
    "# Reset the index of the data frame\n",
    "df = df[df.status != 0].reset_index()\n",
    "df"
   ]
  },
  {
   "cell_type": "code",
   "execution_count": null,
   "metadata": {
    "id": "HuFrhz-coL0e"
   },
   "outputs": [],
   "source": [
    "# Doing the train, validation and test split:\n",
    "\n",
    "# Import library sklearn the package train test split\n",
    "from sklearn.model_selection import train_test_split\n",
    "\n",
    "# Split the data into full train and test dataframe\n",
    "df_full_train, df_test = train_test_split(df, test_size=0.2, random_state=11)\n",
    "\n",
    "# Split the data into train and validation dataframe\n",
    "df_train, df_val = train_test_split(df_full_train, test_size=0.25, random_state=11)"
   ]
  },
  {
   "cell_type": "code",
   "execution_count": null,
   "metadata": {
    "id": "8NGAq01YqnYY"
   },
   "outputs": [],
   "source": [
    "# Reset the index of the train, validation and test dataframes\n",
    "df_train = df_train.reset_index(drop=True)\n",
    "df_val   = df_val.reset_index(drop=True)\n",
    "df_test  = df_test.reset_index(drop=True)"
   ]
  },
  {
   "cell_type": "code",
   "execution_count": null,
   "metadata": {
    "id": "1hjAeNQZrLIk"
   },
   "outputs": [],
   "source": [
    "# Turn the status to a number 1 = true and 0 = false and store in y_train variable\n",
    "y_train = (df_train.status == 2).astype('int').values\n",
    "y_train\n",
    "# Do the same to validation and test dataframes\n",
    "y_val  = (df_val.status == 2).astype('int').values\n",
    "y_test = (df_test.status == 2).astype('int').values"
   ]
  },
  {
   "cell_type": "code",
   "execution_count": null,
   "metadata": {
    "id": "qQ8y7DCNrWt_"
   },
   "outputs": [],
   "source": [
    "# Remove the default variables from train, validation and test dataframes\n",
    "del df_train['status']\n",
    "del df_val['status']\n",
    "del df_test['status']"
   ]
  },
  {
   "cell_type": "code",
   "execution_count": null,
   "metadata": {
    "colab": {
     "base_uri": "https://localhost:8080/",
     "height": 488
    },
    "id": "Y7JiAGw5tVce",
    "outputId": "6a63e109-a7e0-4c9e-d8cb-4b6d495c1cdf"
   },
   "outputs": [],
   "source": [
    "df_train"
   ]
  },
  {
   "cell_type": "code",
   "execution_count": null,
   "metadata": {
    "id": "J9FuTZxluOS9"
   },
   "outputs": [],
   "source": [
    "# Applying Decision Trees:\n",
    "\n",
    "# Create asses risk function\n",
    "def assess_risk(client):\n",
    "\n",
    "  # Check the customer has a record\n",
    "  if client['records'] == 'yes':\n",
    "\n",
    "    # Check the customer job is part-time\n",
    "    if client['job'] == 'parttime':\n",
    "      return 'default'\n",
    "    else:\n",
    "      return 'ok'\n",
    "  else:\n",
    "    # Check the customer have more than 6k in assets\n",
    "    if client['assets'] > 6000:\n",
    "      return 'ok'\n",
    "    else:\n",
    "      return 'default'"
   ]
  },
  {
   "cell_type": "code",
   "execution_count": null,
   "metadata": {
    "colab": {
     "base_uri": "https://localhost:8080/"
    },
    "id": "9DmVtI4UydlJ",
    "outputId": "7b148a62-717e-4f49-dcad-0cfb435dd6f5"
   },
   "outputs": [],
   "source": [
    "# Convert the first record from the train dataframe into a dictionary\n",
    "xi = df_train.iloc[0].to_dict()\n",
    "xi"
   ]
  },
  {
   "cell_type": "code",
   "execution_count": null,
   "metadata": {
    "colab": {
     "base_uri": "https://localhost:8080/",
     "height": 35
    },
    "id": "z1eofzR3ysZe",
    "outputId": "987eaf49-8ea8-4429-f539-2c5cd31d5241"
   },
   "outputs": [],
   "source": [
    "# Use the assess risk function with our customer\n",
    "assess_risk(xi)"
   ]
  },
  {
   "cell_type": "code",
   "execution_count": null,
   "metadata": {
    "id": "LU3Fl-wlzIk9"
   },
   "outputs": [],
   "source": [
    "# Now we can train using the rules created above\n",
    "# so we can learn these rules from the data using the decision tree algorithm\n",
    "# and for that we are using the sklearn\n",
    "\n",
    "# Import sklearn with the package Decision Tree Classifier\n",
    "from sklearn.tree import DecisionTreeClassifier"
   ]
  },
  {
   "cell_type": "code",
   "execution_count": null,
   "metadata": {
    "id": "EywvpSWE0e1M"
   },
   "outputs": [],
   "source": [
    "# Use dictionary vectorizer because we have categorical variables\n",
    "from sklearn.feature_extraction import DictVectorizer"
   ]
  },
  {
   "cell_type": "code",
   "execution_count": null,
   "metadata": {
    "id": "DvittCet6W07"
   },
   "outputs": [],
   "source": [
    "# Import sklearn with the ROC AUC score\n",
    "from sklearn.metrics import roc_auc_score"
   ]
  },
  {
   "cell_type": "code",
   "execution_count": null,
   "metadata": {
    "id": "HEnpOxDK3Jgz"
   },
   "outputs": [],
   "source": [
    "# Import the library warnings to ignore the warnings\n",
    "import warnings\n",
    "warnings.filterwarnings(\"ignore\")"
   ]
  },
  {
   "cell_type": "code",
   "execution_count": null,
   "metadata": {
    "id": "P7Wvzhs01BZ3"
   },
   "outputs": [],
   "source": [
    "# Turn our train dataframe into a list of dictionaries\n",
    "# and then turn the list of dictionaries into the feature matrix\n",
    "# and then after we will train the model\n",
    "# Use the fillna function to fill the NaN with zeros\n",
    "train_dicts = df_train.fillna(0).to_dict(orient='records')"
   ]
  },
  {
   "cell_type": "code",
   "execution_count": null,
   "metadata": {
    "id": "-D1tFaG514Lf"
   },
   "outputs": [],
   "source": [
    "# Create a new instance of the DictVectorizer class without sparse\n",
    "dv = DictVectorizer(sparse=False)\n",
    "\n",
    "# Use the function transform with our DictVectorizer\n",
    "X_train = dv.fit_transform(train_dicts)"
   ]
  },
  {
   "cell_type": "code",
   "execution_count": null,
   "metadata": {
    "colab": {
     "base_uri": "https://localhost:8080/"
    },
    "id": "9Ugpjf7s2tOi",
    "outputId": "b81070f8-fe9a-4c06-97e5-45c6de1e0429"
   },
   "outputs": [],
   "source": [
    "# Look and check at the feature names\n",
    "dv.get_feature_names()"
   ]
  },
  {
   "cell_type": "code",
   "execution_count": null,
   "metadata": {
    "colab": {
     "base_uri": "https://localhost:8080/"
    },
    "id": "-nuuES5m29B9",
    "outputId": "6e5e7400-b95d-48b2-ec43-9b4878170544"
   },
   "outputs": [],
   "source": [
    "# Train our decision tree\n",
    "dt = DecisionTreeClassifier()\n",
    "\n",
    "# For training the model we use the fit method\n",
    "dt.fit(X_train, y_train)"
   ]
  },
  {
   "cell_type": "code",
   "execution_count": null,
   "metadata": {
    "id": "HNyAmwG74c3y"
   },
   "outputs": [],
   "source": [
    "# Test our model:\n",
    "\n",
    "# Use the validation dataframe to transform to a list of dictionaries\n",
    "val_dicts = df_val.fillna(0).to_dict(orient='records')\n",
    "\n",
    "# Use the function transform with our DictVectorizer\n",
    "X_val = dv.transform(val_dicts)"
   ]
  },
  {
   "cell_type": "code",
   "execution_count": null,
   "metadata": {
    "id": "yHg6-9Xs_BLb"
   },
   "outputs": [],
   "source": [
    "# Apply our model on X validation and use the first column\n",
    "y_pred = dt.predict_proba(X_val)[:, 1]"
   ]
  },
  {
   "cell_type": "code",
   "execution_count": null,
   "metadata": {
    "colab": {
     "base_uri": "https://localhost:8080/"
    },
    "id": "ESoO1aII_epP",
    "outputId": "1f12b389-137c-4506-a4c1-002af46ad624"
   },
   "outputs": [],
   "source": [
    "# Compute the ROC AUC score\n",
    "roc_auc_score(y_val, y_pred)"
   ]
  },
  {
   "cell_type": "code",
   "execution_count": null,
   "metadata": {
    "colab": {
     "base_uri": "https://localhost:8080/"
    },
    "id": "XvHweolS_mnf",
    "outputId": "efd44992-52e5-449f-db87-ad4bd674df4e"
   },
   "outputs": [],
   "source": [
    "# Let's see the ROC AUC score for our train dataframe:\n",
    "\n",
    "# Apply our model on X train and use the first column\n",
    "y_pred = dt.predict_proba(X_train)[:, 1]\n",
    "\n",
    "# Compute the ROC AUC score\n",
    "roc_auc_score(y_train, y_pred)\n",
    "# the score below is 100%, and it's excellent but \n",
    "# the model learned from the data, and we don't want this"
   ]
  },
  {
   "cell_type": "code",
   "execution_count": null,
   "metadata": {
    "colab": {
     "base_uri": "https://localhost:8080/"
    },
    "id": "jXWN2wUpAl3G",
    "outputId": "4a787271-405d-41ca-b49d-f52688037c53"
   },
   "outputs": [],
   "source": [
    "# Retrain the tree so the model doesn't learn from the data\n",
    "# and for that we control the depth of the tree\n",
    "\n",
    "# Train our decision tree with max depth of 3 levels\n",
    "dt = DecisionTreeClassifier(max_depth=3)\n",
    "\n",
    "# For training the model we use the fit method\n",
    "dt.fit(X_train, y_train)"
   ]
  },
  {
   "cell_type": "code",
   "execution_count": null,
   "metadata": {
    "colab": {
     "base_uri": "https://localhost:8080/"
    },
    "id": "Dg2nI8NvFiRD",
    "outputId": "8ca8ed62-806a-4c61-bf24-7e928544cdc1"
   },
   "outputs": [],
   "source": [
    "# Apply our model on X train and use the first column\n",
    "y_pred = dt.predict_proba(X_train)[:, 1]\n",
    "\n",
    "# Compute the ROC AUC score\n",
    "auc = roc_auc_score(y_train, y_pred)\n",
    "\n",
    "# Print the result of the ROC AUC score for the train dataframe\n",
    "print('Train:', auc)\n",
    "\n",
    "# Apply our model on X train and use the first column\n",
    "y_pred = dt.predict_proba(X_val)[:, 1]\n",
    "\n",
    "# Compute the ROC AUC score\n",
    "auc = roc_auc_score(y_val, y_pred)\n",
    "\n",
    "# Print the result of the ROC AUC score for the validation dataframe\n",
    "print('Validation:', auc)\n",
    "\n",
    "# below, the performance of our model on the validation dataframe is significantly better\n",
    "# it's 73% compared to 65%"
   ]
  },
  {
   "cell_type": "code",
   "execution_count": null,
   "metadata": {
    "id": "M8HWvDRbG1fM"
   },
   "outputs": [],
   "source": [
    "# Use sklearn tree that helps to visualise trees\n",
    "from sklearn.tree import export_text"
   ]
  },
  {
   "cell_type": "code",
   "execution_count": null,
   "metadata": {
    "colab": {
     "base_uri": "https://localhost:8080/"
    },
    "id": "af7MQUj7HajW",
    "outputId": "a84e6b10-e0db-438a-eca0-8f90014f5b71"
   },
   "outputs": [],
   "source": [
    "# Print the train decision tree\n",
    "print(export_text(dt))"
   ]
  },
  {
   "cell_type": "code",
   "execution_count": null,
   "metadata": {
    "colab": {
     "base_uri": "https://localhost:8080/"
    },
    "id": "BJBMW0ZLHiK6",
    "outputId": "d83fa4b0-22ac-4850-a31b-bff26b296ba1"
   },
   "outputs": [],
   "source": [
    "# Print the train decision tree with feature names\n",
    "print(export_text(dt, feature_names=dv.get_feature_names()))"
   ]
  },
  {
   "cell_type": "code",
   "execution_count": null,
   "metadata": {
    "id": "IOtKB8_kIcJD"
   },
   "outputs": [],
   "source": [
    "# Decision Tree Learning Algorithm:\n",
    "\n",
    "# Use simple data for decision tree learning algorithm\n",
    "data = [\n",
    "    [8000, 'default'],\n",
    "    [2000, 'default'],\n",
    "    [   0, 'default'],\n",
    "    [5000, 'ok'],\n",
    "    [5000, 'ok'],\n",
    "    [4000, 'ok'],\n",
    "    [9000, 'ok'],\n",
    "    [3000, 'default'],\n",
    "]"
   ]
  },
  {
   "cell_type": "code",
   "execution_count": null,
   "metadata": {
    "colab": {
     "base_uri": "https://localhost:8080/",
     "height": 300
    },
    "id": "ffAWqNb4eJgZ",
    "outputId": "898ff617-f04e-4a8a-aa7f-d70b6d14f922"
   },
   "outputs": [],
   "source": [
    "# Convert the data to a dataframe example\n",
    "df_example = pd.DataFrame(data)\n",
    "df_example"
   ]
  },
  {
   "cell_type": "code",
   "execution_count": null,
   "metadata": {
    "colab": {
     "base_uri": "https://localhost:8080/",
     "height": 300
    },
    "id": "Ws5nkufiet-A",
    "outputId": "55f0f32c-5b7b-4122-d5af-8f92bd1c0d98"
   },
   "outputs": [],
   "source": [
    "# Define the column names of the example dataframe\n",
    "df_example = pd.DataFrame(data, columns=['assets','status'])\n",
    "df_example"
   ]
  },
  {
   "cell_type": "code",
   "execution_count": null,
   "metadata": {
    "colab": {
     "base_uri": "https://localhost:8080/",
     "height": 300
    },
    "id": "IK0iNkKMfYgL",
    "outputId": "0680e5e7-a071-4891-fc45-14cf8387db59"
   },
   "outputs": [],
   "source": [
    "# Use the numerical column assets to train our decision tree\n",
    "# using the assets column \n",
    "\n",
    "# Sort the dataframe example by assets\n",
    "df_example.sort_values('assets')\n",
    "\n",
    "# below we can see the assets values and we want to come up\n",
    "# with a rule assets greater than threshold and the possibilities\n",
    "# are split the dataframe with left part T = 2000 T = 3000 and then cut the dataframe\n",
    "# and then the right part with T = 4000 T = 5000 and T = 8000\n",
    "# note: we don't need assets with zero because is the first node\n",
    "# and we don't need the last node with 9000\n",
    "# so the potential thresholds are: 2000, 3000, 4000, 5000 and 8000"
   ]
  },
  {
   "cell_type": "code",
   "execution_count": null,
   "metadata": {
    "id": "RBYwDcF4gEYD"
   },
   "outputs": [],
   "source": [
    "# Create a list with the potential thresholds\n",
    "Ts = [0, 2000, 3000, 4000, 5000, 8000]"
   ]
  },
  {
   "cell_type": "code",
   "execution_count": null,
   "metadata": {
    "id": "XmQZh54TkfmJ"
   },
   "outputs": [],
   "source": [
    "# Import library display from Python\n",
    "from IPython.display import display"
   ]
  },
  {
   "cell_type": "code",
   "execution_count": null,
   "metadata": {
    "colab": {
     "base_uri": "https://localhost:8080/",
     "height": 1000
    },
    "id": "3qkw2sPxifwo",
    "outputId": "c063e039-75a3-4dae-8eb0-0faf06c735cc"
   },
   "outputs": [],
   "source": [
    "# now we want to cut our dataframe example in the left and right side\n",
    "# and see which split is the best one\n",
    "\n",
    "# Create a for loop to use our list of thresholds\n",
    "for T in Ts:\n",
    "\n",
    "  # Print the threshold value\n",
    "  print(T)\n",
    "\n",
    "  # Split the data if the assets are equal or less greater than the threshold\n",
    "  df_left = df_example[df_example.assets <= T]\n",
    "\n",
    "  # Split the data if the assets are equal or greater than the threshold\n",
    "  df_right = df_example[df_example.assets > T]\n",
    "\n",
    "  # Print data from the left and right of the dataframe example\n",
    "  display(df_left)\n",
    "  display(df_right)\n",
    "\n",
    "  # Print blank line\n",
    "  print()"
   ]
  },
  {
   "cell_type": "code",
   "execution_count": null,
   "metadata": {
    "colab": {
     "base_uri": "https://localhost:8080/",
     "height": 437
    },
    "id": "QgoM_MYfmC8S",
    "outputId": "a222b140-c0d3-438d-e711-ae6a9b1e53b5"
   },
   "outputs": [],
   "source": [
    "# Now we have many splits, and we want to know which split\n",
    "# is the best for our evaluating because we have different evaluation criteria\n",
    "# or split evaluation criteria \n",
    "\n",
    "# Let's have an example using the threshold with 4000\n",
    "T = 4000\n",
    "\n",
    "# Split the data if the assets are equal or less greater than the threshold\n",
    "df_left = df_example[df_example.assets <= T]\n",
    "\n",
    "# Split the data if the assets are equal or greater than the threshold\n",
    "df_right = df_example[df_example.assets > T]\n",
    "\n",
    "# Print data from the left and right of the dataframe example\n",
    "display(df_left)\n",
    "\n",
    "# Use the function value counts with status and normalize set to true to return ratios\n",
    "# instead of the absolute number\n",
    "print(df_left.status.value_counts(normalize=True))\n",
    "\n",
    "# Use the function value counts with status and normalize to the right side now\n",
    "display(df_right)\n",
    "print(df_right.status.value_counts(normalize=True))"
   ]
  },
  {
   "cell_type": "code",
   "execution_count": null,
   "metadata": {
    "id": "28pneuGkt8EF"
   },
   "outputs": [],
   "source": [
    "# To understand how good our predictions are here, we can look at\n",
    "# misclassification rate and is when we predict everyone as default\n",
    "# how many errors we make, so what is the fraction of errors here \n",
    "# we can see above start from the top we have 3 default and 1 ok\n",
    "# so we predict everyone as default and we'll make one error out of 4\n",
    "# because we have 4 assets and our misclassification rate is 25%\n",
    "# and this will be our left. \n",
    "# On the right we have 3 ok and one default so then we predict everyone is okay\n",
    "# and we have missed classification rate of 25% \n",
    "# doing this we can evaluate the quality of our split \n",
    "# so for T = 4000 we get 25 error rate misclassification rate\n",
    "# on the left 25% and on the right 25%, and then we can take an average\n",
    "# and the average is 25%, and we can say if we use this T = 4000 as the split, then\n",
    "# the average misclassification rate is 25% \n",
    "# we don't have to take coverage so that we can take a weighted average, for example\n",
    "# we have one example on the left and eight examples on the right, and it makes more\n",
    "# it makes sense to take a weighted average so that we will use the one example of more weight\n",
    "# but for simplicity, we will use the usual average\n",
    "# in real life, the way these algorithms work is they use a weighted average"
   ]
  },
  {
   "cell_type": "code",
   "execution_count": null,
   "metadata": {
    "colab": {
     "base_uri": "https://localhost:8080/",
     "height": 1000
    },
    "id": "DQpDdsMBz_26",
    "outputId": "8c17bf27-1495-4c3f-d51b-79378f3e3f46"
   },
   "outputs": [],
   "source": [
    "# Now let's do the same but now inside of for loop:\n",
    "\n",
    "# Create a for loop to use with the list of thresholds\n",
    "for T in Ts:\n",
    "\n",
    "  # Print the threshold value\n",
    "  print(T)\n",
    "\n",
    "  # Split the data if the assets are equal or less greater than the threshold\n",
    "  df_left = df_example[df_example.assets <= T]\n",
    "\n",
    "  # Split the data if the assets are equal or greater than the threshold\n",
    "  df_right = df_example[df_example.assets > T]\n",
    "\n",
    "  # Print data from the left and right of the dataframe example\n",
    "  display(df_left)\n",
    "\n",
    "  # Use the function value counts with status and normalize set to true to return ratios\n",
    "  # instead of the absolute number\n",
    "  print(df_left.status.value_counts(normalize=True))\n",
    "\n",
    "  # Use the function value counts with status and normalize to the right side now\n",
    "  display(df_right)\n",
    "  print(df_right.status.value_counts(normalize=True))\n",
    "\n",
    "  # Print blank line\n",
    "  print()"
   ]
  },
  {
   "cell_type": "code",
   "execution_count": null,
   "metadata": {
    "colab": {
     "base_uri": "https://localhost:8080/",
     "height": 300
    },
    "id": "8GQFJMTT2fsC",
    "outputId": "dfc4a34e-f5c9-4dc8-f4d9-f8ff1b3e2d56"
   },
   "outputs": [],
   "source": [
    "# Use simple data for decision tree learning algorithm\n",
    "\n",
    "# Add a second column feature called debt to the dataset\n",
    "data = [\n",
    "    [8000, 3000, 'default'],\n",
    "    [2000, 1000, 'default'],\n",
    "    [   0, 1000, 'default'],\n",
    "    [5000, 1000, 'ok'],\n",
    "    [5000, 1000, 'ok'],\n",
    "    [4000, 1000, 'ok'],\n",
    "    [9000,  500, 'ok'],\n",
    "    [3000, 2000, 'default'],\n",
    "]\n",
    "\n",
    "# Define the column names of the example dataframe\n",
    "df_example = pd.DataFrame(data, columns=['assets', 'debt', 'status'])\n",
    "df_example"
   ]
  },
  {
   "cell_type": "code",
   "execution_count": null,
   "metadata": {
    "colab": {
     "base_uri": "https://localhost:8080/",
     "height": 300
    },
    "id": "AxnJ436M3qkv",
    "outputId": "cc9ee59c-4d9e-4d6c-85c1-1cba08280f46"
   },
   "outputs": [],
   "source": [
    "# Sort the values by debt with the dataframe example\n",
    "df_example.sort_values('debt')"
   ]
  },
  {
   "cell_type": "code",
   "execution_count": null,
   "metadata": {
    "id": "u801HrXz32kX"
   },
   "outputs": [],
   "source": [
    "# Look at the table above. We can see we can split the dataset by:\n",
    "# 500, 1000 and 2000 (we look at the values with status ok)\n",
    "\n",
    "# Create a dictionary with values collected from assets and debt\n",
    "thresholds = {\n",
    "    'assets': [0, 2000, 3000, 4000, 5000, 8000],\n",
    "    'debt': [500, 1000, 2000]\n",
    "}"
   ]
  },
  {
   "cell_type": "code",
   "execution_count": null,
   "metadata": {
    "colab": {
     "base_uri": "https://localhost:8080/",
     "height": 1000
    },
    "id": "vCJW7SHV5Y3s",
    "outputId": "e74b71c1-3072-4f21-cf00-3446fa407188"
   },
   "outputs": [],
   "source": [
    "# Iterate over each of the customers for feature and threshold items\n",
    "for feature, Ts in thresholds.items():\n",
    "\n",
    "  # Print the feature name of the dataframe\n",
    "  print('#######################')\n",
    "  print(feature)\n",
    "  \n",
    "  # Iterate over the list of thresholds\n",
    "  for T in Ts:\n",
    "\n",
    "    # Now instead of doing with assets we do for all features\n",
    "  \n",
    "    # Print the threshold value\n",
    "    print(T)\n",
    "\n",
    "    # Split the data if the assets are equal or less greater than the threshold\n",
    "    # df_left = df_example[df_example.assets <= T]\n",
    "    df_left = df_example[df_example[feature] <= T]\n",
    "\n",
    "    # Split the data if the assets are equal or greater than the threshold\n",
    "    # df_right = df_example[df_example.assets > T]\n",
    "    df_right = df_example[df_example[feature] > T]\n",
    "\n",
    "    # Print data from the left and right of the dataframe example\n",
    "    display(df_left)\n",
    "\n",
    "    # Use the function value counts with status and normalize set to true to return ratios\n",
    "    # instead of the absolute number\n",
    "    print(df_left.status.value_counts(normalize=True))\n",
    "\n",
    "    # Use the function value counts with status and normalize to the right side now\n",
    "    display(df_right)\n",
    "    print(df_right.status.value_counts(normalize=True))\n",
    "\n",
    "    # Print blank line\n",
    "    print()\n",
    "\n",
    "# Print a separate line for better visualization of the data\n",
    "print('#######################')"
   ]
  },
  {
   "cell_type": "code",
   "execution_count": null,
   "metadata": {
    "id": "lAqaeCpa9iEt"
   },
   "outputs": [],
   "source": [
    "# Decision Tree Learning Algorithm:\n",
    "# . Find the best split\n",
    "# . Stop IF Max_Depth is reached\n",
    "# . IF LEFT is sufficiently large\n",
    "#        AND NOT pure:\n",
    "#.         REPEAT FOR LEFT\n",
    "# . IF RIGHT is sufficiently large\n",
    "#        AND NOT pure:\n",
    "#.         REPEAT FOR RIGHT"
   ]
  },
  {
   "cell_type": "code",
   "execution_count": null,
   "metadata": {
    "id": "6WJPqmIVA5Xo"
   },
   "outputs": [],
   "source": [
    "# Decision Tree Parameter Tunning:\n",
    "# . Selecting max_depth\n",
    "# . Selecting min_samples_leaf"
   ]
  },
  {
   "cell_type": "code",
   "execution_count": null,
   "metadata": {
    "colab": {
     "base_uri": "https://localhost:8080/"
    },
    "id": "meAoJSKSBosr",
    "outputId": "9f23a391-cd51-4688-f881-b2794f4333f9"
   },
   "outputs": [],
   "source": [
    "# Iterate over different values of max depth\n",
    "# None means no restriction and it should grow tree as deep as possible\n",
    "# as many layers as possible \n",
    "for d in [1, 2, 3, 4, 5, 6, 10, 15, 20 , None]:\n",
    "\n",
    "  # Train a decision tree by adjusting the max depth parameter\n",
    "  dt = DecisionTreeClassifier()\n",
    "\n",
    "  # For training the model we use the fit method\n",
    "  dt.fit(X_train, y_train)\n",
    "\n",
    "  # Apply our model on X validation and use the first column\n",
    "  y_pred = dt.predict_proba(X_val)[:, 1]\n",
    "\n",
    "  # Compute the ROC AUC score\n",
    "  auc = roc_auc_score(y_val, y_pred)\n",
    "\n",
    "  # Print the depth and the AUC rounded to 3 digits\n",
    "  # 4s means 4 characters and it keeps it aligned\n",
    "  print('%4s -> %.3f' % (d, auc))\n",
    "\n",
    "  # below we can see the best values are 4, 5 and 6 with 76%\n",
    "  # we can say this three are good ones so our three should have \n",
    "  # the depth from 4 to 6 layers"
   ]
  },
  {
   "cell_type": "code",
   "execution_count": null,
   "metadata": {
    "colab": {
     "base_uri": "https://localhost:8080/"
    },
    "id": "by1botFPGp7E",
    "outputId": "370e0a87-de7e-48d7-9fe1-5f4efe45a5c4"
   },
   "outputs": [],
   "source": [
    "# now we know what are the best depth parameters (4, 5 and 6)\n",
    "# we can do now is for each of these depth values we can try\n",
    "# different mean sample leaf values and see what happens\n",
    "\n",
    "# Declare list scores to store the results\n",
    "scores = []\n",
    "\n",
    "# Crete a for loop for our best depth parameters (4, 5 and 6)\n",
    "for d in [4, 5, 6]:\n",
    "\n",
    "  # Iterate over different values for the other parameter the mean sample leaf\n",
    "  for s in [1, 2, 5, 10, 15, 20, 100, 200, 500]:\n",
    "\n",
    "    # Train a decision tree by adjusting the max depth and min samples leaf parameters\n",
    "    dt = DecisionTreeClassifier(max_depth=d, min_samples_leaf=s)\n",
    "\n",
    "    # For training the model we use the fit method\n",
    "    dt.fit(X_train, y_train)\n",
    "\n",
    "    # Apply our model on X validation and use the first column\n",
    "    y_pred = dt.predict_proba(X_val)[:, 1]\n",
    "\n",
    "    # Compute the ROC AUC score\n",
    "    auc = roc_auc_score(y_val, y_pred)\n",
    "\n",
    "    # Print the max depth, min sample leaf and the AUC rounded to 3 digits\n",
    "    # 4s means 4 characters and it keeps it aligned\n",
    "    print('(%4s, %3d) -> %.3f' % (d, s, auc))\n",
    "    # Change the print to append the list of scores\n",
    "    scores.append((d, s, auc))\n",
    "\n",
    "# Create dataframe scores to store the scores list\n",
    "# Declare the names of the columns of the dataframe scores\n",
    "columns=['max_depth', 'min_samples_leaf', 'auc']\n",
    "df_scores = pd.DataFrame(scores, columns=columns)"
   ]
  },
  {
   "cell_type": "code",
   "execution_count": null,
   "metadata": {
    "colab": {
     "base_uri": "https://localhost:8080/",
     "height": 206
    },
    "id": "xRKpZtVRJRJZ",
    "outputId": "4010a940-ba3a-4462-abec-1312ccf3eef2"
   },
   "outputs": [],
   "source": [
    "# Print the first 5 rows of data from the dataframe scores\n",
    "df_scores.head()"
   ]
  },
  {
   "cell_type": "code",
   "execution_count": null,
   "metadata": {
    "colab": {
     "base_uri": "https://localhost:8080/",
     "height": 206
    },
    "id": "SNCxNKvWJXoe",
    "outputId": "bbb05502-bb4e-4385-838b-1ae5f4e78781"
   },
   "outputs": [],
   "source": [
    "# Print the values of AUC by descending order\n",
    "df_scores.sort_values(by='auc', ascending=False).head()\n",
    "\n",
    "# we can see below the depth of 6 seems to be the best one\n",
    "# when we put a limit on the size of the leaf"
   ]
  },
  {
   "cell_type": "code",
   "execution_count": null,
   "metadata": {
    "colab": {
     "base_uri": "https://localhost:8080/",
     "height": 394
    },
    "id": "24H1eRiQKe_4",
    "outputId": "bf1d8280-cb86-45c7-d3a0-0f13b05bddd6"
   },
   "outputs": [],
   "source": [
    "# Turn the dataframe scores into a dataframe where omn the rows we have\n",
    "# min_samples_leaf and columns we have max_depth and the cells will be AUC\n",
    "# Use function pivot with dataframe scores and create a dataframe scores pivot\n",
    "# index is the row in our case is min_samples_leaf\n",
    "df_scores_pivot = df_scores.pivot(index='min_samples_leaf', columns=['max_depth'], values=['auc'])\n",
    "df_scores_pivot.round(3)\n",
    "\n",
    "# we can see the min_sample_leaf 15 is the largest with 78%"
   ]
  },
  {
   "cell_type": "code",
   "execution_count": null,
   "metadata": {
    "colab": {
     "base_uri": "https://localhost:8080/",
     "height": 299
    },
    "id": "NuhiGS6TN1ao",
    "outputId": "fbd78608-88b5-407b-c8e7-75d4b3a05691"
   },
   "outputs": [],
   "source": [
    "# Visualise the dataframe scores pivot as a heat map \n",
    "# use annnot to visualize the values\n",
    "sns.heatmap(df_scores_pivot, annot=True, fmt='.3f')\n",
    "\n",
    "# to check the worst values we look at the darkest background color in this plot is 68%\n",
    "# to check the best value we look at the light background colot in this plot is 78.1%\n",
    "# we see at the right side of the plot values start with 78% and ends with 68%\n",
    "# we can see with the score 78.6% has the max dept of 6 with the AUC and 15 with\n",
    "# min_sample_leaf"
   ]
  },
  {
   "cell_type": "code",
   "execution_count": null,
   "metadata": {
    "colab": {
     "base_uri": "https://localhost:8080/"
    },
    "id": "-C8FW9m5Oi-c",
    "outputId": "f63ec3de-25f4-41f8-86ee-dc8e4e9d1a2a"
   },
   "outputs": [],
   "source": [
    "# Train our decision tree by set the parameters max_depth and min_samples_leaf\n",
    "dt = DecisionTreeClassifier(max_depth=6, min_samples_leaf=15)\n",
    "\n",
    "# For training the model we use the fit method\n",
    "dt.fit(X_train, y_train)"
   ]
  },
  {
   "cell_type": "code",
   "execution_count": null,
   "metadata": {
    "id": "EtbpWAqwQv_C"
   },
   "outputs": [],
   "source": [
    "# Import the package RandomForestClassifier from sklearn\n",
    "from sklearn.ensemble import RandomForestClassifier"
   ]
  },
  {
   "cell_type": "code",
   "execution_count": null,
   "metadata": {
    "colab": {
     "base_uri": "https://localhost:8080/"
    },
    "id": "4Ju6zLFXs4Gs",
    "outputId": "f9f8f524-4a4d-41eb-c543-86a45aa100d3"
   },
   "outputs": [],
   "source": [
    "# Create RandomForestClassifier with 10 models\n",
    "# n_estimators are the numbers of models we want to use\n",
    "rf = RandomForestClassifier(n_estimators=10, random_state=1)\n",
    "\n",
    "# For training the model we use the fit method\n",
    "rf.fit(X_train, y_train)"
   ]
  },
  {
   "cell_type": "code",
   "execution_count": null,
   "metadata": {
    "id": "mQFulbSNvVzy"
   },
   "outputs": [],
   "source": [
    "# Apply our model on X validation and use the first column\n",
    "y_pred = rf.predict_proba(X_val)[:, 1]"
   ]
  },
  {
   "cell_type": "code",
   "execution_count": null,
   "metadata": {
    "colab": {
     "base_uri": "https://localhost:8080/"
    },
    "id": "rm35TF_eysxq",
    "outputId": "48596dc1-bf2f-4898-a2b4-23dcd260c00b"
   },
   "outputs": [],
   "source": [
    "# Compute the ROC AUC score\n",
    "roc_auc_score(y_val, y_pred)"
   ]
  },
  {
   "cell_type": "code",
   "execution_count": null,
   "metadata": {
    "colab": {
     "base_uri": "https://localhost:8080/"
    },
    "id": "CQPhaoU18rye",
    "outputId": "466a93df-7106-4e67-abc4-a3d896af053b"
   },
   "outputs": [],
   "source": [
    "rf.predict_log_proba(X_val[[0]])"
   ]
  },
  {
   "cell_type": "code",
   "execution_count": null,
   "metadata": {
    "id": "4wpMnDvly01i"
   },
   "outputs": [],
   "source": [
    "# Iterate over many different values from 10 to 200\n",
    "# check how the performance of a model improves or changes\n",
    "# when we increase the number of trees \n",
    "\n",
    "# Create list scores to store the results\n",
    "scores = []\n",
    "\n",
    "for n in range(10, 201, 10):\n",
    "\n",
    "  # Create RandomForestClassifier with 10 models\n",
    "  # n_estimators are the numbers of models we want to use\n",
    "  rf = RandomForestClassifier(n_estimators=10, random_state=1)\n",
    "\n",
    "  # For training the model we use the fit method\n",
    "  rf.fit(X_train, y_train)\n",
    "\n",
    "  # Apply our model on X validation and use the first column\n",
    "  y_pred = rf.predict_proba(X_val)[:, 1]\n",
    "\n",
    "  # Compute the ROC AUC score\n",
    "  auc = roc_auc_score(y_val, y_pred)\n",
    "\n",
    "  # Append list scores with results\n",
    "  scores.append((n, auc))"
   ]
  },
  {
   "cell_type": "code",
   "execution_count": null,
   "metadata": {
    "colab": {
     "base_uri": "https://localhost:8080/",
     "height": 677
    },
    "id": "XYSrSmu61hxu",
    "outputId": "c046575e-ef96-4938-fe25-eed184ab5142"
   },
   "outputs": [],
   "source": [
    "# Create dataframe scores using the list scores\n",
    "df_scores = pd.DataFrame(scores, columns=['n_estimators', 'auc'])\n",
    "df_scores"
   ]
  },
  {
   "cell_type": "code",
   "execution_count": null,
   "metadata": {
    "colab": {
     "base_uri": "https://localhost:8080/",
     "height": 283
    },
    "id": "0s-68mxi11p_",
    "outputId": "e481b958-285d-4e6e-d613-8b8a2ea960cb"
   },
   "outputs": [],
   "source": [
    "# Plot the dataframe scores\n",
    "plt.plot(df_scores.n_estimators, df_scores.auc)"
   ]
  },
  {
   "cell_type": "code",
   "execution_count": null,
   "metadata": {
    "id": "WCrZ_Vk32Obr"
   },
   "outputs": [],
   "source": [
    "# Create list scores to store the results\n",
    "scores = []\n",
    "\n",
    "# Iterate using the max depth parameters\n",
    "for d in [5, 10, 15]:\n",
    "  for n in range(10, 201, 10):\n",
    "\n",
    "    # Create RandomForestClassifier with 10 models\n",
    "    # n_estimators are the numbers of models we want to use\n",
    "    rf = RandomForestClassifier(n_estimators=10, random_state=1)\n",
    "\n",
    "    # For training the model we use the fit method\n",
    "    rf.fit(X_train, y_train)\n",
    "\n",
    "    # Apply our model on X validation and use the first column\n",
    "    y_pred = rf.predict_proba(X_val)[:, 1]\n",
    "\n",
    "    # Compute the ROC AUC score\n",
    "    auc = roc_auc_score(y_val, y_pred)\n",
    "\n",
    "    # Append list scores with results\n",
    "    scores.append((d, n, auc))"
   ]
  },
  {
   "cell_type": "code",
   "execution_count": null,
   "metadata": {
    "colab": {
     "base_uri": "https://localhost:8080/",
     "height": 206
    },
    "id": "jR7w3_4E4yHE",
    "outputId": "4d05d1e8-8190-42e2-fac4-3651dbbd2fc2"
   },
   "outputs": [],
   "source": [
    "# Create list with names of the columns of the dataframe scores\n",
    "columns=['max_depth', 'n_estimators', 'auc']\n",
    "\n",
    "# Create dataframe scores using the list scores\n",
    "df_scores = pd.DataFrame(scores, columns=columns)\n",
    "df_scores.head()"
   ]
  },
  {
   "cell_type": "code",
   "execution_count": null,
   "metadata": {
    "colab": {
     "base_uri": "https://localhost:8080/",
     "height": 283
    },
    "id": "qn_-VpPC5XzE",
    "outputId": "3e0a953b-906d-465d-9933-11d75e7be9e5"
   },
   "outputs": [],
   "source": [
    "# Create for loop to plot the dataframe scores\n",
    "for d in [5, 10, 15]:\n",
    "\n",
    "  # Create dataframe subset with the scores and we filter scores with max depth\n",
    "  df_subset = df_scores[df_scores.max_depth == d]\n",
    "\n",
    "  # Plot the dataframe subset with legend\n",
    "  plt.plot(df_subset.n_estimators, df_subset.auc, label='max_depth=%d' % d)\n",
    "\n",
    "# Display the legend of the plot\n",
    "plt.legend()"
   ]
  },
  {
   "cell_type": "code",
   "execution_count": null,
   "metadata": {
    "id": "FKLFuYhFQ-eY"
   },
   "outputs": [],
   "source": [
    "# Select the best max depth to 10\n",
    "max_depth = 10"
   ]
  },
  {
   "cell_type": "code",
   "execution_count": null,
   "metadata": {},
   "outputs": [],
   "source": []
  }
 ],
 "metadata": {
  "colab": {
   "authorship_tag": "ABX9TyPnsC1Te5WWGufmUpgefSpl",
   "collapsed_sections": [],
   "include_colab_link": true,
   "machine_shape": "hm",
   "provenance": []
  },
  "gpuClass": "premium",
  "kernelspec": {
   "display_name": "Python 3 (ipykernel)",
   "language": "python",
   "name": "python3"
  },
  "language_info": {
   "codemirror_mode": {
    "name": "ipython",
    "version": 3
   },
   "file_extension": ".py",
   "mimetype": "text/x-python",
   "name": "python",
   "nbconvert_exporter": "python",
   "pygments_lexer": "ipython3",
   "version": "3.8.13"
  }
 },
 "nbformat": 4,
 "nbformat_minor": 4
}
